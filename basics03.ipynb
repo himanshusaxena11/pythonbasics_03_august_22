{
 "cells": [
  {
   "cell_type": "code",
   "execution_count": 1,
   "id": "ce73881d",
   "metadata": {},
   "outputs": [
    {
     "name": "stdout",
     "output_type": "stream",
     "text": [
      "enter somethinghello there\n",
      "hello there\n"
     ]
    }
   ],
   "source": [
    "#user input\n",
    "x=input('enter something')\n",
    "print(x)"
   ]
  },
  {
   "cell_type": "code",
   "execution_count": 2,
   "id": "c9c31bf9",
   "metadata": {},
   "outputs": [
    {
     "name": "stdout",
     "output_type": "stream",
     "text": [
      "enter first no6\n",
      "enter second no3\n",
      "63\n"
     ]
    }
   ],
   "source": [
    "#wap to add 2 nos using user input\n",
    "a=input('enter first no')\n",
    "b=input('enter second no')\n",
    "print(a+b)"
   ]
  },
  {
   "cell_type": "code",
   "execution_count": 3,
   "id": "be6b0a46",
   "metadata": {},
   "outputs": [
    {
     "name": "stdout",
     "output_type": "stream",
     "text": [
      "enter first no4\n",
      "enter second no5\n",
      "9\n"
     ]
    }
   ],
   "source": [
    "#wap to add 2 nos using user input\n",
    "a=int(input('enter first no'))\n",
    "b=int(input('enter second no'))\n",
    "print(a+b)\n"
   ]
  },
  {
   "cell_type": "code",
   "execution_count": 4,
   "id": "b48398b0",
   "metadata": {},
   "outputs": [
    {
     "name": "stdout",
     "output_type": "stream",
     "text": [
      "enter first no4\n",
      "enter second no6\n",
      "10\n"
     ]
    }
   ],
   "source": [
    "#wap to add 2 nos using user input\n",
    "a=input('enter first no')\n",
    "b=input('enter second no')\n",
    "c=int(a)+int(b)\n",
    "print(c)"
   ]
  },
  {
   "cell_type": "code",
   "execution_count": 7,
   "id": "09db5dd5",
   "metadata": {},
   "outputs": [
    {
     "name": "stdout",
     "output_type": "stream",
     "text": [
      "enter first no4\n",
      "enter second no7\n",
      "47\n"
     ]
    }
   ],
   "source": [
    "#wrong method\n",
    "#wap to add 2 nos using user input\n",
    "a=input('enter first no')\n",
    "b=input('enter second no')\n",
    "c=int(a+b)\n",
    "print(c)"
   ]
  },
  {
   "cell_type": "code",
   "execution_count": 13,
   "id": "c8849932",
   "metadata": {},
   "outputs": [
    {
     "name": "stdout",
     "output_type": "stream",
     "text": [
      "enter first num6\n",
      "enter second num8\n",
      "14.0\n"
     ]
    }
   ],
   "source": [
    "a=float(input('enter first num'))\n",
    "b=int(input('enter second num'))\n",
    "c=a+b\n",
    "print(c)"
   ]
  },
  {
   "cell_type": "code",
   "execution_count": 18,
   "id": "3ad089b0",
   "metadata": {},
   "outputs": [
    {
     "name": "stdout",
     "output_type": "stream",
     "text": [
      "enter first marks4.6\n",
      "enter second marks6\n",
      "enter third marks2.4\n",
      "avg is>>>>> 4.333333333333333\n"
     ]
    }
   ],
   "source": [
    "#wap to find avg of student in 3 subj?\n",
    "a=float(input('enter first marks'))\n",
    "b=int(input('enter second marks'))\n",
    "c=float(input('enter third marks'))\n",
    "avg=(a+b+c)/3\n",
    "print('avg is>>>>>',avg)"
   ]
  },
  {
   "cell_type": "code",
   "execution_count": 29,
   "id": "0716f51b",
   "metadata": {},
   "outputs": [
    {
     "name": "stdout",
     "output_type": "stream",
     "text": [
      "enter age16\n",
      "can not vote\n"
     ]
    }
   ],
   "source": [
    "age =int(input('enter age'))\n",
    "if age<18:\n",
    "    print('can not vote')\n",
    "else:\n",
    "    print(\"can vote\")"
   ]
  },
  {
   "cell_type": "code",
   "execution_count": 32,
   "id": "6154cca9",
   "metadata": {},
   "outputs": [
    {
     "name": "stdout",
     "output_type": "stream",
     "text": [
      "can not vote\n"
     ]
    }
   ],
   "source": [
    "age =7\n",
    "if age>18:\n",
    "    print('can vote')\n",
    "else:\n",
    "    print('can not vote')"
   ]
  },
  {
   "cell_type": "code",
   "execution_count": 33,
   "id": "e587d21d",
   "metadata": {},
   "outputs": [
    {
     "name": "stdout",
     "output_type": "stream",
     "text": [
      "vote\n"
     ]
    }
   ],
   "source": [
    "#If age is exactly 18\n",
    "#method 1\n",
    "age =18\n",
    "if age>=18:\n",
    "    print('vote')\n",
    "else:\n",
    "    print('not vote')\n",
    "    "
   ]
  },
  {
   "cell_type": "code",
   "execution_count": 36,
   "id": "c4db49f8",
   "metadata": {},
   "outputs": [
    {
     "name": "stdout",
     "output_type": "stream",
     "text": [
      "1st time voter\n"
     ]
    }
   ],
   "source": [
    "#If age is exactly 18\n",
    "#method 2\n",
    "age =18\n",
    "if age>18:\n",
    "    print('vote')\n",
    "elif age== 18:\n",
    "    print('1st time voter')\n",
    "else:\n",
    "    print('not vote')"
   ]
  },
  {
   "cell_type": "code",
   "execution_count": 37,
   "id": "fd64a73d",
   "metadata": {},
   "outputs": [
    {
     "name": "stdout",
     "output_type": "stream",
     "text": [
      "enter num35\n",
      "odd num\n"
     ]
    }
   ],
   "source": [
    "#wap to find even and odd num\n",
    "a=int(input('enter num'))\n",
    "if a%2!=0:\n",
    "    print('odd num')\n",
    "else:\n",
    "    print('even num')"
   ]
  },
  {
   "cell_type": "code",
   "execution_count": 39,
   "id": "7e70168d",
   "metadata": {},
   "outputs": [
    {
     "name": "stdout",
     "output_type": "stream",
     "text": [
      "enter age16\n",
      "child\n"
     ]
    }
   ],
   "source": [
    "#wap to find if a individual is child or adult\n",
    "age=int(input('enter age'))\n",
    "if age>18:\n",
    "    print('adult')\n",
    "elif age<18:\n",
    "    print('child')"
   ]
  },
  {
   "cell_type": "code",
   "execution_count": 21,
   "id": "eab1b8d0",
   "metadata": {},
   "outputs": [
    {
     "name": "stdout",
     "output_type": "stream",
     "text": [
      "enter temp18\n",
      "not rainy\n"
     ]
    }
   ],
   "source": [
    "#wap to find if it is rainy outside or not\n",
    "#condition is if temp. is 20degree then it is rainy\n",
    "temp=int(input('enter temp'))\n",
    "if temp>20:\n",
    "    print('not rainy')\n",
    "elif  temp<20:\n",
    "    print('not rainy')\n",
    "elif temp==20:\n",
    "    print('rainy')"
   ]
  },
  {
   "cell_type": "code",
   "execution_count": 20,
   "id": "4d2094fa",
   "metadata": {},
   "outputs": [
    {
     "name": "stdout",
     "output_type": "stream",
     "text": [
      "enter temp27\n",
      "not rainy\n"
     ]
    }
   ],
   "source": [
    "#wap to find if it is rainy outside or not\n",
    "#condition is if temp. is 20degree then it is rainy\n",
    "temp=int(input('enter temp'))\n",
    "if temp==20:\n",
    "    print('rainy')\n",
    "else:\n",
    "    print('not rainy')"
   ]
  },
  {
   "cell_type": "code",
   "execution_count": 9,
   "id": "b8c1be37",
   "metadata": {},
   "outputs": [
    {
     "name": "stdout",
     "output_type": "stream",
     "text": [
      "enter daywednesday\n",
      "boring day\n"
     ]
    }
   ],
   "source": [
    "#wap to print holiday if the day is sunday otherwise print boring day\n",
    "day =input('enter day')\n",
    "if day=='sunday':\n",
    "    print('holiday')\n",
    "elif day=='monday':\n",
    "    print('boring day')\n",
    "elif day=='tuesday':\n",
    "    print('boring day')\n",
    "elif day=='wednesday':\n",
    "    print('boring day')\n",
    "elif day=='thursday':\n",
    "    print('boring day')\n",
    "elif day=='friday':\n",
    "    print('boring day')\n",
    "elif day=='saturday':\n",
    "    print('boring day')"
   ]
  },
  {
   "cell_type": "code",
   "execution_count": 13,
   "id": "ced56806",
   "metadata": {},
   "outputs": [
    {
     "name": "stdout",
     "output_type": "stream",
     "text": [
      "boring day\n"
     ]
    }
   ],
   "source": [
    "#wap to print holiday if the day is sunday otherwise print boring day\n",
    "day='wednesday'\n",
    "if day=='sunday':\n",
    "    print('holiday')\n",
    "else:\n",
    "    print('boring day')"
   ]
  },
  {
   "cell_type": "code",
   "execution_count": 16,
   "id": "7390120c",
   "metadata": {},
   "outputs": [
    {
     "name": "stdout",
     "output_type": "stream",
     "text": [
      "enter daySunday\n",
      "boring day\n"
     ]
    }
   ],
   "source": [
    "#wap to print holiday if the day is sunday otherwise print boring day\n",
    "day =input('enter day')\n",
    "if day=='sunday':\n",
    "    print('holiday')\n",
    "else:\n",
    "    print('boring day')"
   ]
  },
  {
   "cell_type": "code",
   "execution_count": null,
   "id": "53b1921e",
   "metadata": {},
   "outputs": [],
   "source": []
  }
 ],
 "metadata": {
  "kernelspec": {
   "display_name": "Python 3 (ipykernel)",
   "language": "python",
   "name": "python3"
  },
  "language_info": {
   "codemirror_mode": {
    "name": "ipython",
    "version": 3
   },
   "file_extension": ".py",
   "mimetype": "text/x-python",
   "name": "python",
   "nbconvert_exporter": "python",
   "pygments_lexer": "ipython3",
   "version": "3.9.12"
  }
 },
 "nbformat": 4,
 "nbformat_minor": 5
}
